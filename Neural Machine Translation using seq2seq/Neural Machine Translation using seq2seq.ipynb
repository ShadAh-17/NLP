{
 "cells": [
  {
   "cell_type": "code",
   "execution_count": 1,
   "metadata": {},
   "outputs": [
    {
     "name": "stderr",
     "output_type": "stream",
     "text": [
      "Using TensorFlow backend.\n"
     ]
    }
   ],
   "source": [
    "import os, sys\n",
    "\n",
    "from keras.models import Model\n",
    "from keras.layers import Input, LSTM, GRU, Dense, Embedding\n",
    "from keras.preprocessing.text import Tokenizer\n",
    "from keras.preprocessing.sequence import pad_sequences\n",
    "from keras.utils import to_categorical\n",
    "import numpy as np\n",
    "import matplotlib.pyplot as plt\n",
    "import numpy as np\n",
    "\n",
    "import keras.backend as K\n",
    "if len(K.tensorflow_backend._get_available_gpus()) > 0:\n",
    "  from keras.layers import CuDNNLSTM as LSTM\n",
    "  from keras.layers import CuDNNGRU as GRU"
   ]
  },
  {
   "cell_type": "code",
   "execution_count": 2,
   "metadata": {},
   "outputs": [],
   "source": [
    "# configuration\n",
    "BATCH_SIZE = 64  # Batch size for training.\n",
    "EPOCHS = 100  # Number of epochs to train for.\n",
    "LATENT_DIM = 256  # Latent dimensionality of the encoding space.\n",
    "NUM_SAMPLES = 10000  # Number of samples to train on.\n",
    "MAX_SEQUENCE_LENGTH = 100\n",
    "MAX_NUM_WORDS = 20000\n",
    "EMBEDDING_DIM = 100"
   ]
  },
  {
   "cell_type": "code",
   "execution_count": 3,
   "metadata": {},
   "outputs": [],
   "source": [
    "# Where we will store the data\n",
    "input_texts = [] # sentence in original language\n",
    "target_texts = [] # sentence in target language\n",
    "target_texts_inputs = [] # sentence in target language offset by 1"
   ]
  },
  {
   "cell_type": "code",
   "execution_count": 4,
   "metadata": {},
   "outputs": [
    {
     "name": "stdout",
     "output_type": "stream",
     "text": [
      "num samples: 2831\n"
     ]
    }
   ],
   "source": [
    "# load in the data\n",
    "# download the data at: http://www.manythings.org/anki/\n",
    "t = 0\n",
    "for line in open('hin.txt'):\n",
    "  # only keep a limited number of samples\n",
    "  t += 1\n",
    "  if t > NUM_SAMPLES:\n",
    "    break\n",
    "\n",
    "  # input and target are separated by tab\n",
    "  if '\\t' not in line:\n",
    "    continue\n",
    "\n",
    "  # split up the input and translation\n",
    "  input_text, translation = line.rstrip().split('\\t')\n",
    "\n",
    "  # make the target input and output\n",
    "  # recall we'll be using teacher forcing\n",
    "  target_text = translation + ' <eos>'\n",
    "  target_text_input = '<sos> ' + translation\n",
    "\n",
    "  input_texts.append(input_text)\n",
    "  target_texts.append(target_text)\n",
    "  target_texts_inputs.append(target_text_input)\n",
    "print(\"num samples:\", len(input_texts))"
   ]
  },
  {
   "cell_type": "code",
   "execution_count": 5,
   "metadata": {},
   "outputs": [],
   "source": [
    "# tokenize the inputs\n",
    "tokenizer_inputs = Tokenizer(num_words=MAX_NUM_WORDS)\n",
    "tokenizer_inputs.fit_on_texts(input_texts)\n",
    "input_sequences = tokenizer_inputs.texts_to_sequences(input_texts)"
   ]
  },
  {
   "cell_type": "code",
   "execution_count": 6,
   "metadata": {},
   "outputs": [
    {
     "name": "stdout",
     "output_type": "stream",
     "text": [
      "Found 2392 unique input tokens.\n"
     ]
    }
   ],
   "source": [
    "# get the word to index mapping for input language\n",
    "word2idx_inputs = tokenizer_inputs.word_index\n",
    "print('Found %s unique input tokens.' % len(word2idx_inputs))"
   ]
  },
  {
   "cell_type": "code",
   "execution_count": 7,
   "metadata": {},
   "outputs": [],
   "source": [
    "# determine maximum length input sequence\n",
    "max_len_input = max(len(s) for s in input_sequences)"
   ]
  },
  {
   "cell_type": "code",
   "execution_count": 8,
   "metadata": {},
   "outputs": [],
   "source": [
    "# tokenize the outputs\n",
    "# don't filter out special characters\n",
    "# otherwise <sos> and <eos> won't appear\n",
    "tokenizer_outputs = Tokenizer(num_words=MAX_NUM_WORDS, filters='')\n",
    "tokenizer_outputs.fit_on_texts(target_texts + target_texts_inputs) # inefficient, oh well\n",
    "target_sequences = tokenizer_outputs.texts_to_sequences(target_texts)\n",
    "target_sequences_inputs = tokenizer_outputs.texts_to_sequences(target_texts_inputs)"
   ]
  },
  {
   "cell_type": "code",
   "execution_count": 9,
   "metadata": {},
   "outputs": [
    {
     "name": "stdout",
     "output_type": "stream",
     "text": [
      "Found 3143 unique output tokens.\n"
     ]
    }
   ],
   "source": [
    "# get the word to index mapping for output language\n",
    "word2idx_outputs = tokenizer_outputs.word_index\n",
    "print('Found %s unique output tokens.' % len(word2idx_outputs))"
   ]
  },
  {
   "cell_type": "code",
   "execution_count": 10,
   "metadata": {},
   "outputs": [],
   "source": [
    "# store number of output words for later\n",
    "# remember to add 1 since indexing starts at 1\n",
    "num_words_output = len(word2idx_outputs) + 1"
   ]
  },
  {
   "cell_type": "code",
   "execution_count": 11,
   "metadata": {},
   "outputs": [],
   "source": [
    "# determine maximum length output sequence\n",
    "max_len_target = max(len(s) for s in target_sequences)"
   ]
  },
  {
   "cell_type": "code",
   "execution_count": 12,
   "metadata": {},
   "outputs": [
    {
     "name": "stdout",
     "output_type": "stream",
     "text": [
      "encoder_inputs.shape: (2831, 22)\n",
      "encoder_inputs[0]: [   0    0    0    0    0    0    0    0    0    0    0    0    0    0\n",
      "    0    0    0    0    0    0    0 1276]\n",
      "decoder_inputs[0]: [   2 1492    0    0    0    0    0    0    0    0    0    0    0    0\n",
      "    0    0    0    0    0    0    0    0    0    0    0    0]\n",
      "decoder_inputs.shape: (2831, 26)\n"
     ]
    }
   ],
   "source": [
    "# pad the sequences\n",
    "encoder_inputs = pad_sequences(input_sequences, maxlen=max_len_input)\n",
    "print(\"encoder_inputs.shape:\", encoder_inputs.shape)\n",
    "print(\"encoder_inputs[0]:\", encoder_inputs[0])\n",
    "\n",
    "decoder_inputs = pad_sequences(target_sequences_inputs, maxlen=max_len_target, padding='post')\n",
    "print(\"decoder_inputs[0]:\", decoder_inputs[0])\n",
    "print(\"decoder_inputs.shape:\", decoder_inputs.shape)\n",
    "\n",
    "decoder_targets = pad_sequences(target_sequences, maxlen=max_len_target, padding='post')"
   ]
  },
  {
   "cell_type": "code",
   "execution_count": 13,
   "metadata": {},
   "outputs": [
    {
     "name": "stdout",
     "output_type": "stream",
     "text": [
      "Loading word vectors...\n",
      "Found 400000 word vectors.\n"
     ]
    }
   ],
   "source": [
    "# store all the pre-trained word vectors\n",
    "print('Loading word vectors...')\n",
    "word2vec = {}\n",
    "with open(os.path.join('glove.6B.%sd.txt' % EMBEDDING_DIM)) as f:\n",
    "  # is just a space-separated text file in the format:\n",
    "  # word vec[0] vec[1] vec[2] ...\n",
    "  for line in f:\n",
    "    values = line.split()\n",
    "    word = values[0]\n",
    "    vec = np.asarray(values[1:], dtype='float32')\n",
    "    word2vec[word] = vec\n",
    "print('Found %s word vectors.' % len(word2vec))"
   ]
  },
  {
   "cell_type": "code",
   "execution_count": 14,
   "metadata": {},
   "outputs": [
    {
     "name": "stdout",
     "output_type": "stream",
     "text": [
      "Filling pre-trained embeddings...\n"
     ]
    }
   ],
   "source": [
    "# prepare embedding matrix\n",
    "print('Filling pre-trained embeddings...')\n",
    "num_words = min(MAX_NUM_WORDS, len(word2idx_inputs) + 1)\n",
    "embedding_matrix = np.zeros((num_words, EMBEDDING_DIM))\n",
    "for word, i in word2idx_inputs.items():\n",
    "  if i < MAX_NUM_WORDS:\n",
    "    embedding_vector = word2vec.get(word)\n",
    "    if embedding_vector is not None:\n",
    "      # words not found in embedding index will be all zeros.\n",
    "      embedding_matrix[i] = embedding_vector"
   ]
  },
  {
   "cell_type": "code",
   "execution_count": 15,
   "metadata": {},
   "outputs": [],
   "source": [
    "# create embedding layer\n",
    "embedding_layer = Embedding(\n",
    "  num_words,\n",
    "  EMBEDDING_DIM,\n",
    "  weights=[embedding_matrix],\n",
    "  input_length=max_len_input,\n",
    "  # trainable=True\n",
    ")"
   ]
  },
  {
   "cell_type": "code",
   "execution_count": 16,
   "metadata": {},
   "outputs": [],
   "source": [
    "# create targets, since we cannot use sparse\n",
    "# categorical cross entropy when we have sequences\n",
    "decoder_targets_one_hot = np.zeros((len(input_texts), max_len_target, num_words_output), dtype='float32')\n",
    "#x = np.zeros((len(df), window_length, n_features), dtype='float32')\n",
    "# assign the values\n",
    "for i, d in enumerate(decoder_targets):\n",
    "  for t, word in enumerate(d):\n",
    "    decoder_targets_one_hot[i, t, word] = 1"
   ]
  },
  {
   "cell_type": "code",
   "execution_count": 17,
   "metadata": {},
   "outputs": [
    {
     "name": "stdout",
     "output_type": "stream",
     "text": [
      "WARNING:tensorflow:From /home/shadaab17/anaconda3/lib/python3.7/site-packages/tensorflow/python/framework/op_def_library.py:263: colocate_with (from tensorflow.python.framework.ops) is deprecated and will be removed in a future version.\n",
      "Instructions for updating:\n",
      "Colocations handled automatically by placer.\n"
     ]
    }
   ],
   "source": [
    "##### build the model #####\n",
    "encoder_inputs_placeholder = Input(shape=(max_len_input,))\n",
    "x = embedding_layer(encoder_inputs_placeholder)\n",
    "encoder = LSTM(\n",
    "  LATENT_DIM,\n",
    "  return_state=True,\n",
    "  # dropout=0.5 # dropout not available on gpu\n",
    ")\n",
    "encoder_outputs, h, c = encoder(x)\n",
    "# encoder_outputs, h = encoder(x) #gru\n",
    "\n",
    "# keep only the states to pass into decoder\n",
    "encoder_states = [h, c]\n",
    "# encoder_states = [state_h] # gru\n",
    "\n",
    "# Set up the decoder, using [h, c] as initial state.\n",
    "decoder_inputs_placeholder = Input(shape=(max_len_target,))\n",
    "\n",
    "# this word embedding will not use pre-trained vectors\n",
    "# although you could\n",
    "decoder_embedding = Embedding(num_words_output, LATENT_DIM)\n",
    "decoder_inputs_x = decoder_embedding(decoder_inputs_placeholder)\n",
    "\n",
    "# since the decoder is a \"to-many\" model we want to have\n",
    "# return_sequences=True\n",
    "decoder_lstm = LSTM(\n",
    "  LATENT_DIM,\n",
    "  return_sequences=True,\n",
    "  return_state=True,\n",
    "  # dropout=0.5 # dropout not available on gpu\n",
    ")\n",
    "decoder_outputs, _, _ = decoder_lstm(\n",
    "  decoder_inputs_x,\n",
    "  initial_state=encoder_states\n",
    ")\n",
    "\n",
    "# decoder_outputs, _ = decoder_gru(\n",
    "#   decoder_inputs_x,\n",
    "#   initial_state=encoder_states\n",
    "# )\n",
    "\n",
    "# final dense layer for predictions\n",
    "decoder_dense = Dense(num_words_output, activation='softmax')\n",
    "decoder_outputs = decoder_dense(decoder_outputs)"
   ]
  },
  {
   "cell_type": "code",
   "execution_count": 18,
   "metadata": {},
   "outputs": [
    {
     "name": "stdout",
     "output_type": "stream",
     "text": [
      "WARNING:tensorflow:From /home/shadaab17/anaconda3/lib/python3.7/site-packages/tensorflow/python/ops/math_ops.py:3066: to_int32 (from tensorflow.python.ops.math_ops) is deprecated and will be removed in a future version.\n",
      "Instructions for updating:\n",
      "Use tf.cast instead.\n",
      "WARNING:tensorflow:From /home/shadaab17/anaconda3/lib/python3.7/site-packages/tensorflow/python/ops/math_grad.py:102: div (from tensorflow.python.ops.math_ops) is deprecated and will be removed in a future version.\n",
      "Instructions for updating:\n",
      "Deprecated in favor of operator or tf.math.divide.\n",
      "Train on 2264 samples, validate on 567 samples\n",
      "Epoch 1/100\n",
      "2264/2264 [==============================] - 32s 14ms/step - loss: 2.4497 - acc: 0.7144 - val_loss: 3.2364 - val_acc: 0.5828\n",
      "Epoch 2/100\n",
      "2264/2264 [==============================] - 27s 12ms/step - loss: 1.5854 - acc: 0.7526 - val_loss: 2.6780 - val_acc: 0.6114\n",
      "Epoch 3/100\n",
      "2264/2264 [==============================] - 29s 13ms/step - loss: 1.4703 - acc: 0.7742 - val_loss: 2.6800 - val_acc: 0.6256\n",
      "Epoch 4/100\n",
      "2264/2264 [==============================] - 29s 13ms/step - loss: 1.3955 - acc: 0.7806 - val_loss: 2.6345 - val_acc: 0.6307\n",
      "Epoch 5/100\n",
      "2264/2264 [==============================] - 24s 11ms/step - loss: 1.3296 - acc: 0.7872 - val_loss: 2.6409 - val_acc: 0.6367\n",
      "Epoch 6/100\n",
      "2264/2264 [==============================] - 25s 11ms/step - loss: 1.2690 - acc: 0.7933 - val_loss: 2.6418 - val_acc: 0.6401\n",
      "Epoch 7/100\n",
      "2264/2264 [==============================] - 27s 12ms/step - loss: 1.2127 - acc: 0.7972 - val_loss: 2.5746 - val_acc: 0.6418\n",
      "Epoch 8/100\n",
      "2264/2264 [==============================] - 36s 16ms/step - loss: 1.1597 - acc: 0.8023 - val_loss: 2.5479 - val_acc: 0.6460\n",
      "Epoch 9/100\n",
      "2264/2264 [==============================] - 34s 15ms/step - loss: 1.1101 - acc: 0.8059 - val_loss: 2.6211 - val_acc: 0.6441\n",
      "Epoch 10/100\n",
      "2264/2264 [==============================] - 26s 11ms/step - loss: 1.0599 - acc: 0.8107 - val_loss: 2.5548 - val_acc: 0.6475\n",
      "Epoch 11/100\n",
      "2264/2264 [==============================] - 25s 11ms/step - loss: 1.0092 - acc: 0.8158 - val_loss: 2.5711 - val_acc: 0.6475\n",
      "Epoch 12/100\n",
      "2264/2264 [==============================] - 25s 11ms/step - loss: 0.9620 - acc: 0.8206 - val_loss: 2.5241 - val_acc: 0.6507\n",
      "Epoch 13/100\n",
      "2264/2264 [==============================] - 25s 11ms/step - loss: 0.9157 - acc: 0.8253 - val_loss: 2.5201 - val_acc: 0.6520\n",
      "Epoch 14/100\n",
      "2264/2264 [==============================] - 25s 11ms/step - loss: 0.8690 - acc: 0.8315 - val_loss: 2.5140 - val_acc: 0.6528\n",
      "Epoch 15/100\n",
      "2264/2264 [==============================] - 25s 11ms/step - loss: 0.8248 - acc: 0.8371 - val_loss: 2.5108 - val_acc: 0.6530\n",
      "Epoch 16/100\n",
      "2264/2264 [==============================] - 25s 11ms/step - loss: 0.7813 - acc: 0.8429 - val_loss: 2.5411 - val_acc: 0.6562\n",
      "Epoch 17/100\n",
      "2264/2264 [==============================] - 25s 11ms/step - loss: 0.7394 - acc: 0.8493 - val_loss: 2.5114 - val_acc: 0.6560\n",
      "Epoch 18/100\n",
      "2264/2264 [==============================] - 25s 11ms/step - loss: 0.6958 - acc: 0.8558 - val_loss: 2.5453 - val_acc: 0.6581\n",
      "Epoch 19/100\n",
      "2264/2264 [==============================] - 25s 11ms/step - loss: 0.6557 - acc: 0.8625 - val_loss: 2.5254 - val_acc: 0.6585\n",
      "Epoch 20/100\n",
      "2264/2264 [==============================] - 25s 11ms/step - loss: 0.6152 - acc: 0.8693 - val_loss: 2.5279 - val_acc: 0.6574\n",
      "Epoch 21/100\n",
      "2264/2264 [==============================] - 25s 11ms/step - loss: 0.5773 - acc: 0.8776 - val_loss: 2.5184 - val_acc: 0.6587\n",
      "Epoch 22/100\n",
      "2264/2264 [==============================] - 25s 11ms/step - loss: 0.5390 - acc: 0.8850 - val_loss: 2.5569 - val_acc: 0.6594\n",
      "Epoch 23/100\n",
      "2264/2264 [==============================] - 27s 12ms/step - loss: 0.5028 - acc: 0.8932 - val_loss: 2.5346 - val_acc: 0.6595\n",
      "Epoch 24/100\n",
      "2264/2264 [==============================] - 35s 16ms/step - loss: 0.4684 - acc: 0.9022 - val_loss: 2.5975 - val_acc: 0.6576\n",
      "Epoch 25/100\n",
      "2264/2264 [==============================] - 28s 13ms/step - loss: 0.4341 - acc: 0.9107 - val_loss: 2.5775 - val_acc: 0.6587\n",
      "Epoch 26/100\n",
      "2264/2264 [==============================] - 27s 12ms/step - loss: 0.4020 - acc: 0.9188 - val_loss: 2.5531 - val_acc: 0.6613\n",
      "Epoch 27/100\n",
      "2264/2264 [==============================] - 25s 11ms/step - loss: 0.3704 - acc: 0.9273 - val_loss: 2.5624 - val_acc: 0.6594\n",
      "Epoch 28/100\n",
      "2264/2264 [==============================] - 29s 13ms/step - loss: 0.3420 - acc: 0.9355 - val_loss: 2.5731 - val_acc: 0.6591\n",
      "Epoch 29/100\n",
      "2264/2264 [==============================] - 31s 14ms/step - loss: 0.3128 - acc: 0.9418 - val_loss: 2.5865 - val_acc: 0.6602\n",
      "Epoch 30/100\n",
      "2264/2264 [==============================] - 29s 13ms/step - loss: 0.2862 - acc: 0.9493 - val_loss: 2.5679 - val_acc: 0.6605\n",
      "Epoch 31/100\n",
      "2264/2264 [==============================] - 28s 13ms/step - loss: 0.2613 - acc: 0.9556 - val_loss: 2.6205 - val_acc: 0.6604\n",
      "Epoch 32/100\n",
      "2264/2264 [==============================] - 26s 11ms/step - loss: 0.2371 - acc: 0.9613 - val_loss: 2.6221 - val_acc: 0.6596\n",
      "Epoch 33/100\n",
      "2264/2264 [==============================] - 24s 11ms/step - loss: 0.2148 - acc: 0.9663 - val_loss: 2.6113 - val_acc: 0.6605\n",
      "Epoch 34/100\n",
      "2264/2264 [==============================] - 24s 11ms/step - loss: 0.1947 - acc: 0.9703 - val_loss: 2.6735 - val_acc: 0.6608\n",
      "Epoch 35/100\n",
      "2264/2264 [==============================] - 24s 11ms/step - loss: 0.1750 - acc: 0.9749 - val_loss: 2.6732 - val_acc: 0.6600\n",
      "Epoch 36/100\n",
      "2264/2264 [==============================] - 24s 11ms/step - loss: 0.1572 - acc: 0.9785 - val_loss: 2.6746 - val_acc: 0.6612\n",
      "Epoch 37/100\n",
      "2264/2264 [==============================] - 24s 11ms/step - loss: 0.1418 - acc: 0.9812 - val_loss: 2.7062 - val_acc: 0.6629\n",
      "Epoch 38/100\n",
      "2264/2264 [==============================] - 26s 11ms/step - loss: 0.1273 - acc: 0.9837 - val_loss: 2.6922 - val_acc: 0.6612\n",
      "Epoch 39/100\n",
      "2264/2264 [==============================] - 25s 11ms/step - loss: 0.1126 - acc: 0.9857 - val_loss: 2.7090 - val_acc: 0.6612\n",
      "Epoch 40/100\n",
      "2264/2264 [==============================] - 25s 11ms/step - loss: 0.1011 - acc: 0.9876 - val_loss: 2.7398 - val_acc: 0.6602\n",
      "Epoch 41/100\n",
      "2264/2264 [==============================] - 27s 12ms/step - loss: 0.0902 - acc: 0.9892 - val_loss: 2.7668 - val_acc: 0.6589\n",
      "Epoch 42/100\n",
      "2264/2264 [==============================] - 27s 12ms/step - loss: 0.0803 - acc: 0.9903 - val_loss: 2.7663 - val_acc: 0.6610\n",
      "Epoch 43/100\n",
      "2264/2264 [==============================] - 28s 12ms/step - loss: 0.0712 - acc: 0.9918 - val_loss: 2.7571 - val_acc: 0.6609\n",
      "Epoch 44/100\n",
      "2264/2264 [==============================] - 30s 13ms/step - loss: 0.0629 - acc: 0.9926 - val_loss: 2.7807 - val_acc: 0.6609\n",
      "Epoch 45/100\n",
      "2264/2264 [==============================] - 24s 11ms/step - loss: 0.0569 - acc: 0.9932 - val_loss: 2.8058 - val_acc: 0.6621\n",
      "Epoch 46/100\n",
      "2264/2264 [==============================] - 26s 12ms/step - loss: 0.0511 - acc: 0.9936 - val_loss: 2.8092 - val_acc: 0.6625\n",
      "Epoch 47/100\n",
      "2264/2264 [==============================] - 25s 11ms/step - loss: 0.0455 - acc: 0.9939 - val_loss: 2.8360 - val_acc: 0.6621\n",
      "Epoch 48/100\n",
      "2264/2264 [==============================] - 25s 11ms/step - loss: 0.0405 - acc: 0.9945 - val_loss: 2.8602 - val_acc: 0.6630\n",
      "Epoch 49/100\n",
      "2264/2264 [==============================] - 27s 12ms/step - loss: 0.0367 - acc: 0.9944 - val_loss: 2.8547 - val_acc: 0.6628\n",
      "Epoch 50/100\n",
      "2264/2264 [==============================] - 26s 11ms/step - loss: 0.0333 - acc: 0.9949 - val_loss: 2.8786 - val_acc: 0.6619\n",
      "Epoch 51/100\n",
      "2264/2264 [==============================] - 28s 12ms/step - loss: 0.0307 - acc: 0.9946 - val_loss: 2.8648 - val_acc: 0.6620\n",
      "Epoch 52/100\n",
      "2264/2264 [==============================] - 27s 12ms/step - loss: 0.0274 - acc: 0.9947 - val_loss: 2.8947 - val_acc: 0.6609\n",
      "Epoch 53/100\n",
      "2264/2264 [==============================] - 27s 12ms/step - loss: 0.0257 - acc: 0.9948 - val_loss: 2.8990 - val_acc: 0.6608\n",
      "Epoch 54/100\n",
      "2264/2264 [==============================] - 30s 13ms/step - loss: 0.0236 - acc: 0.9950 - val_loss: 2.9280 - val_acc: 0.6627\n",
      "Epoch 55/100\n",
      "2264/2264 [==============================] - 37s 16ms/step - loss: 0.0217 - acc: 0.9952 - val_loss: 2.9372 - val_acc: 0.6622\n",
      "Epoch 56/100\n"
     ]
    },
    {
     "name": "stdout",
     "output_type": "stream",
     "text": [
      "2264/2264 [==============================] - 35s 15ms/step - loss: 0.0205 - acc: 0.9951 - val_loss: 2.9679 - val_acc: 0.6610\n",
      "Epoch 57/100\n",
      "2264/2264 [==============================] - 35s 15ms/step - loss: 0.0191 - acc: 0.9952 - val_loss: 2.9588 - val_acc: 0.6629\n",
      "Epoch 58/100\n",
      "2264/2264 [==============================] - 34s 15ms/step - loss: 0.0181 - acc: 0.9953 - val_loss: 2.9687 - val_acc: 0.6625\n",
      "Epoch 59/100\n",
      "2264/2264 [==============================] - 35s 15ms/step - loss: 0.0172 - acc: 0.9951 - val_loss: 2.9957 - val_acc: 0.6618\n",
      "Epoch 60/100\n",
      "2264/2264 [==============================] - 32s 14ms/step - loss: 0.0162 - acc: 0.9950 - val_loss: 3.0050 - val_acc: 0.6631\n",
      "Epoch 61/100\n",
      "2264/2264 [==============================] - 25s 11ms/step - loss: 0.0153 - acc: 0.9953 - val_loss: 3.0063 - val_acc: 0.6635\n",
      "Epoch 62/100\n",
      "2264/2264 [==============================] - 25s 11ms/step - loss: 0.0146 - acc: 0.9955 - val_loss: 3.0512 - val_acc: 0.6635\n",
      "Epoch 63/100\n",
      "2264/2264 [==============================] - 25s 11ms/step - loss: 0.0140 - acc: 0.9952 - val_loss: 3.0364 - val_acc: 0.6632\n",
      "Epoch 64/100\n",
      "2264/2264 [==============================] - 25s 11ms/step - loss: 0.0136 - acc: 0.9953 - val_loss: 3.0665 - val_acc: 0.6627\n",
      "Epoch 65/100\n",
      "2264/2264 [==============================] - 25s 11ms/step - loss: 0.0133 - acc: 0.9952 - val_loss: 3.1149 - val_acc: 0.6642\n",
      "Epoch 66/100\n",
      "2264/2264 [==============================] - 26s 12ms/step - loss: 0.0128 - acc: 0.9953 - val_loss: 3.0790 - val_acc: 0.6623\n",
      "Epoch 67/100\n",
      "2264/2264 [==============================] - 35s 15ms/step - loss: 0.0122 - acc: 0.9956 - val_loss: 3.0905 - val_acc: 0.6633\n",
      "Epoch 68/100\n",
      "2264/2264 [==============================] - 27s 12ms/step - loss: 0.0119 - acc: 0.9951 - val_loss: 3.0933 - val_acc: 0.6624\n",
      "Epoch 69/100\n",
      "2264/2264 [==============================] - 34s 15ms/step - loss: 0.0116 - acc: 0.9953 - val_loss: 3.1343 - val_acc: 0.6640\n",
      "Epoch 70/100\n",
      "2264/2264 [==============================] - 34s 15ms/step - loss: 0.0116 - acc: 0.9952 - val_loss: 3.1151 - val_acc: 0.6643\n",
      "Epoch 71/100\n",
      "2264/2264 [==============================] - 34s 15ms/step - loss: 0.0112 - acc: 0.9951 - val_loss: 3.1346 - val_acc: 0.6642\n",
      "Epoch 72/100\n",
      "2264/2264 [==============================] - 34s 15ms/step - loss: 0.0108 - acc: 0.9953 - val_loss: 3.1566 - val_acc: 0.6619\n",
      "Epoch 73/100\n",
      "2264/2264 [==============================] - 34s 15ms/step - loss: 0.0108 - acc: 0.9950 - val_loss: 3.1599 - val_acc: 0.6630\n",
      "Epoch 74/100\n",
      "2264/2264 [==============================] - 34s 15ms/step - loss: 0.0105 - acc: 0.9956 - val_loss: 3.1511 - val_acc: 0.6644\n",
      "Epoch 75/100\n",
      "2264/2264 [==============================] - 34s 15ms/step - loss: 0.0103 - acc: 0.9953 - val_loss: 3.1678 - val_acc: 0.6631\n",
      "Epoch 76/100\n",
      "2264/2264 [==============================] - 34s 15ms/step - loss: 0.0102 - acc: 0.9954 - val_loss: 3.1858 - val_acc: 0.6644\n",
      "Epoch 77/100\n",
      "2264/2264 [==============================] - 33s 14ms/step - loss: 0.0100 - acc: 0.9953 - val_loss: 3.2044 - val_acc: 0.6642\n",
      "Epoch 78/100\n",
      "2264/2264 [==============================] - 28s 12ms/step - loss: 0.0098 - acc: 0.9953 - val_loss: 3.2006 - val_acc: 0.6633\n",
      "Epoch 79/100\n",
      "2264/2264 [==============================] - 26s 11ms/step - loss: 0.0098 - acc: 0.9956 - val_loss: 3.2181 - val_acc: 0.6629\n",
      "Epoch 80/100\n",
      "2264/2264 [==============================] - 26s 11ms/step - loss: 0.0096 - acc: 0.9953 - val_loss: 3.2111 - val_acc: 0.6650\n",
      "Epoch 81/100\n",
      "2264/2264 [==============================] - 27s 12ms/step - loss: 0.0097 - acc: 0.9952 - val_loss: 3.2568 - val_acc: 0.6639\n",
      "Epoch 82/100\n",
      "2264/2264 [==============================] - 28s 12ms/step - loss: 0.0093 - acc: 0.9952 - val_loss: 3.2321 - val_acc: 0.6649\n",
      "Epoch 83/100\n",
      "2264/2264 [==============================] - 30s 13ms/step - loss: 0.0094 - acc: 0.9953 - val_loss: 3.2650 - val_acc: 0.6640\n",
      "Epoch 84/100\n",
      "2264/2264 [==============================] - 29s 13ms/step - loss: 0.0090 - acc: 0.9953 - val_loss: 3.2667 - val_acc: 0.6654\n",
      "Epoch 85/100\n",
      "2264/2264 [==============================] - 35s 15ms/step - loss: 0.0093 - acc: 0.9953 - val_loss: 3.2553 - val_acc: 0.6639\n",
      "Epoch 86/100\n",
      "2264/2264 [==============================] - 24s 11ms/step - loss: 0.0089 - acc: 0.9955 - val_loss: 3.2783 - val_acc: 0.6634\n",
      "Epoch 87/100\n",
      "2264/2264 [==============================] - 35s 16ms/step - loss: 0.0089 - acc: 0.9951 - val_loss: 3.2952 - val_acc: 0.6631\n",
      "Epoch 88/100\n",
      "2264/2264 [==============================] - 36s 16ms/step - loss: 0.0090 - acc: 0.9954 - val_loss: 3.2713 - val_acc: 0.6640\n",
      "Epoch 89/100\n",
      "2264/2264 [==============================] - 36s 16ms/step - loss: 0.0087 - acc: 0.9954 - val_loss: 3.2771 - val_acc: 0.6648\n",
      "Epoch 90/100\n",
      "2264/2264 [==============================] - 36s 16ms/step - loss: 0.0089 - acc: 0.9951 - val_loss: 3.3139 - val_acc: 0.6638\n",
      "Epoch 91/100\n",
      "2264/2264 [==============================] - 30s 13ms/step - loss: 0.0087 - acc: 0.9954 - val_loss: 3.3336 - val_acc: 0.6634\n",
      "Epoch 92/100\n",
      "2264/2264 [==============================] - 25s 11ms/step - loss: 0.0087 - acc: 0.9953 - val_loss: 3.3211 - val_acc: 0.6625\n",
      "Epoch 93/100\n",
      "2264/2264 [==============================] - 25s 11ms/step - loss: 0.0085 - acc: 0.9953 - val_loss: 3.3176 - val_acc: 0.6647\n",
      "Epoch 94/100\n",
      "2264/2264 [==============================] - 25s 11ms/step - loss: 0.0086 - acc: 0.9952 - val_loss: 3.3686 - val_acc: 0.6644\n",
      "Epoch 95/100\n",
      "2264/2264 [==============================] - 25s 11ms/step - loss: 0.0085 - acc: 0.9951 - val_loss: 3.3440 - val_acc: 0.6637\n",
      "Epoch 96/100\n",
      "2264/2264 [==============================] - 28s 13ms/step - loss: 0.0085 - acc: 0.9956 - val_loss: 3.3557 - val_acc: 0.6639\n",
      "Epoch 97/100\n",
      "2264/2264 [==============================] - 30s 13ms/step - loss: 0.0085 - acc: 0.9954 - val_loss: 3.3574 - val_acc: 0.6635\n",
      "Epoch 98/100\n",
      "2264/2264 [==============================] - 34s 15ms/step - loss: 0.0084 - acc: 0.9952 - val_loss: 3.3545 - val_acc: 0.6635\n",
      "Epoch 99/100\n",
      "2264/2264 [==============================] - 34s 15ms/step - loss: 0.0085 - acc: 0.9955 - val_loss: 3.3499 - val_acc: 0.6628\n",
      "Epoch 100/100\n",
      "2264/2264 [==============================] - 35s 15ms/step - loss: 0.0084 - acc: 0.9952 - val_loss: 3.3822 - val_acc: 0.6622\n"
     ]
    }
   ],
   "source": [
    "# Create the model object\n",
    "model = Model([encoder_inputs_placeholder, decoder_inputs_placeholder], decoder_outputs)\n",
    "\n",
    "# Compile the model and train it\n",
    "model.compile(\n",
    "  optimizer='rmsprop',\n",
    "  loss='categorical_crossentropy',\n",
    "  metrics=['accuracy']\n",
    ")\n",
    "r = model.fit(\n",
    "  [encoder_inputs, decoder_inputs], decoder_targets_one_hot,\n",
    "  batch_size=BATCH_SIZE,\n",
    "  epochs=EPOCHS,\n",
    "  validation_split=0.2,\n",
    ")"
   ]
  },
  {
   "cell_type": "code",
   "execution_count": 19,
   "metadata": {},
   "outputs": [
    {
     "data": {
      "image/png": "[encoded data removed]",
      "text/plain": [
       "<Figure size 432x288 with 1 Axes>"
      ]
     },
     "metadata": {
      "needs_background": "light"
     },
     "output_type": "display_data"
    }
   ],
   "source": [
    "# plot some data\n",
    "plt.plot(r.history['loss'], label='loss')\n",
    "plt.plot(r.history['val_loss'], label='val_loss')\n",
    "plt.legend()\n",
    "plt.show()"
   ]
  },
  {
   "cell_type": "code",
   "execution_count": 20,
   "metadata": {},
   "outputs": [
    {
     "data": {
      "image/png": "[encoded data removed]",
      "text/plain": [
       "<Figure size 432x288 with 1 Axes>"
      ]
     },
     "metadata": {
      "needs_background": "light"
     },
     "output_type": "display_data"
    }
   ],
   "source": [
    "# accuracies\n",
    "plt.plot(r.history['acc'], label='acc')\n",
    "plt.plot(r.history['val_acc'], label='val_acc')\n",
    "plt.legend()\n",
    "plt.show()"
   ]
  },
  {
   "cell_type": "code",
   "execution_count": 21,
   "metadata": {},
   "outputs": [
    {
     "name": "stderr",
     "output_type": "stream",
     "text": [
      "/home/shadaab17/anaconda3/lib/python3.7/site-packages/keras/engine/network.py:877: UserWarning: Layer lstm_2 was passed non-serializable keyword arguments: {'initial_state': [<tf.Tensor 'lstm_1/while/Exit_3:0' shape=(?, 256) dtype=float32>, <tf.Tensor 'lstm_1/while/Exit_4:0' shape=(?, 256) dtype=float32>]}. They will not be included in the serialized model (and thus will be missing at deserialization time).\n",
      "  '. They will not be included '\n"
     ]
    }
   ],
   "source": [
    "# Save model\n",
    "model.save('s2s.h5')"
   ]
  },
  {
   "cell_type": "code",
   "execution_count": 22,
   "metadata": {},
   "outputs": [],
   "source": [
    "##### Make predictions #####\n",
    "# As with the poetry example, we need to create another model\n",
    "# that can take in the RNN state and previous word as input\n",
    "# and accept a T=1 sequence.\n",
    "\n",
    "# The encoder will be stand-alone\n",
    "# From this we will get our initial decoder hidden state\n",
    "encoder_model = Model(encoder_inputs_placeholder, encoder_states)\n",
    "\n",
    "decoder_state_input_h = Input(shape=(LATENT_DIM,))\n",
    "decoder_state_input_c = Input(shape=(LATENT_DIM,))\n",
    "decoder_states_inputs = [decoder_state_input_h, decoder_state_input_c]\n",
    "# decoder_states_inputs = [decoder_state_input_h] # gru\n",
    "\n",
    "decoder_inputs_single = Input(shape=(1,))\n",
    "decoder_inputs_single_x = decoder_embedding(decoder_inputs_single)\n",
    "\n",
    "# this time, we want to keep the states too, to be output\n",
    "# by our sampling model\n",
    "decoder_outputs, h, c = decoder_lstm(\n",
    "  decoder_inputs_single_x,\n",
    "  initial_state=decoder_states_inputs\n",
    ")\n",
    "# decoder_outputs, state_h = decoder_lstm(\n",
    "#   decoder_inputs_single_x,\n",
    "#   initial_state=decoder_states_inputs\n",
    "# ) #gru\n",
    "decoder_states = [h, c]\n",
    "# decoder_states = [h] # gru\n",
    "decoder_outputs = decoder_dense(decoder_outputs)\n",
    "\n",
    "# The sampling model\n",
    "# inputs: y(t-1), h(t-1), c(t-1)\n",
    "# outputs: y(t), h(t), c(t)\n",
    "decoder_model = Model(\n",
    "  [decoder_inputs_single] + decoder_states_inputs, \n",
    "  [decoder_outputs] + decoder_states\n",
    ")\n",
    "\n",
    "# map indexes back into real words\n",
    "# so we can view the results\n",
    "idx2word_eng = {v:k for k, v in word2idx_inputs.items()}\n",
    "idx2word_trans = {v:k for k, v in word2idx_outputs.items()}"
   ]
  },
  {
   "cell_type": "code",
   "execution_count": 23,
   "metadata": {},
   "outputs": [],
   "source": [
    "def decode_sequence(input_seq):\n",
    "  # Encode the input as state vectors.\n",
    "  states_value = encoder_model.predict(input_seq)\n",
    "\n",
    "  # Generate empty target sequence of length 1.\n",
    "  target_seq = np.zeros((1, 1))\n",
    "\n",
    "  # Populate the first character of target sequence with the start character.\n",
    "  # NOTE: tokenizer lower-cases all words\n",
    "  target_seq[0, 0] = word2idx_outputs['<sos>']\n",
    "\n",
    "  # if we get this we break\n",
    "  eos = word2idx_outputs['<eos>']\n",
    "\n",
    "  # Create the translation\n",
    "  output_sentence = []\n",
    "  for _ in range(max_len_target):\n",
    "    output_tokens, h, c = decoder_model.predict(\n",
    "      [target_seq] + states_value\n",
    "    )\n",
    "    # output_tokens, h = decoder_model.predict(\n",
    "    #     [target_seq] + states_value\n",
    "    # ) # gru\n",
    "\n",
    "    # Get next word\n",
    "    idx = np.argmax(output_tokens[0, 0, :])\n",
    "\n",
    "    # End sentence of EOS\n",
    "    if eos == idx:\n",
    "      break\n",
    "\n",
    "    word = ''\n",
    "    if idx > 0:\n",
    "      word = idx2word_trans[idx]\n",
    "      output_sentence.append(word)\n",
    "\n",
    "    # Update the decoder input\n",
    "    # which is just the word just generated\n",
    "    target_seq[0, 0] = idx\n",
    "\n",
    "    # Update states\n",
    "    states_value = [h, c]\n",
    "    # states_value = [h] # gru\n",
    "\n",
    "  return ' '.join(output_sentence)"
   ]
  },
  {
   "cell_type": "code",
   "execution_count": 24,
   "metadata": {},
   "outputs": [
    {
     "name": "stdout",
     "output_type": "stream",
     "text": [
      "-\n",
      "Input: When she was reading the letter, she looked sad.\n",
      "Translation: वह पूरी रात वह किताब थी।\n",
      "Continue? [Y/n]Y\n",
      "-\n",
      "Input: It is said that he is sick.\n",
      "Translation: कहा जाता है कि वह बीमार है।\n",
      "Continue? [Y/n]Y\n",
      "-\n",
      "Input: The patient breathed his last.\n",
      "Translation: रोगी ने अपनी आखरी साँस भरी।\n",
      "Continue? [Y/n]Y\n",
      "-\n",
      "Input: He doesn't live in my neighborhood.\n",
      "Translation: वह मेरे आस-पड़ोस में नहीं रहता।\n",
      "Continue? [Y/n]Y\n",
      "-\n",
      "Input: I admit my mistake.\n",
      "Translation: मैं अपनी ग़लती मानता हूँ।\n",
      "Continue? [Y/n]Y\n",
      "-\n",
      "Input: I'll let you know when it has been decided.\n",
      "Translation: मुझे पता में समय क्या किया है।\n",
      "Continue? [Y/n]Y\n",
      "-\n",
      "Input: Remove your shirt and lie down.\n",
      "Translation: अपनी कमीज़ उतार कर लेट जाओ।\n",
      "Continue? [Y/n]Y\n",
      "-\n",
      "Input: I'll be in Tokyo on business next week.\n",
      "Translation: मैं अगले हफ़्ते टोक्यो में हूँगा काम पर।\n",
      "Continue? [Y/n]Y\n",
      "-\n",
      "Input: Put it where you like.\n",
      "Translation: जहाँ भी रखना है रखदो।\n",
      "Continue? [Y/n]Y\n",
      "-\n",
      "Input: I'll make a phone call.\n",
      "Translation: मैं फ़ोन करता हूँ।\n",
      "Continue? [Y/n]Y\n",
      "-\n",
      "Input: Cross off the names of the people who have paid their dues.\n",
      "Translation: खाना अपने सभी लोग पता है?\n",
      "Continue? [Y/n]Y\n",
      "-\n",
      "Input: Try to jump as high as possible.\n",
      "Translation: जितना ऊँचा कूद सकते हो कूदो।\n",
      "Continue? [Y/n]Y\n",
      "-\n",
      "Input: Mother bought me the book.\n",
      "Translation: मम्मी ने मेरे लिए वह किताब खरीदी।\n",
      "Continue? [Y/n]Y\n",
      "-\n",
      "Input: This car has been used for the past ten years.\n",
      "Translation: यह मेज़ में मील में दूर के बीच कर रही है।\n",
      "Continue? [Y/n]Y\n",
      "-\n",
      "Input: I have back problems.\n",
      "Translation: मुझे पीठ की तकलीफ है i\n",
      "Continue? [Y/n]Y\n",
      "-\n",
      "Input: He is digging his own grave.\n",
      "Translation: वह अपनी क़ब्र खोद रहा है।\n",
      "Continue? [Y/n]Y\n",
      "-\n",
      "Input: I don't know.\n",
      "Translation: मुझे नहीं पता।\n",
      "Continue? [Y/n]Y\n",
      "-\n",
      "Input: What about us?\n",
      "Translation: हमारा क्या?\n",
      "Continue? [Y/n]Y\n",
      "-\n",
      "Input: He cut the envelope open.\n",
      "Translation: उसने लिफ़ाफ़े को काटकर खोल दिया।\n",
      "Continue? [Y/n]Y\n",
      "-\n",
      "Input: We enjoyed skating.\n",
      "Translation: हमे स्केटिंग करके मज़ा आया।\n",
      "Continue? [Y/n]Y\n",
      "-\n",
      "Input: When did the accident happen?\n",
      "Translation: हादसा कब हुआ?\n",
      "Continue? [Y/n]Y\n",
      "-\n",
      "Input: He repeated his name slowly.\n",
      "Translation: उसने अपना नाम दोबारा धीरे से बोला।\n",
      "Continue? [Y/n]Y\n",
      "-\n",
      "Input: I'll call you back later.\n",
      "Translation: मैं आपको थोड़ी देर बाद फ़ोन करूँगा।\n",
      "Continue? [Y/n]Y\n",
      "-\n",
      "Input: How are you?\n",
      "Translation: आप कैसे हो?\n",
      "Continue? [Y/n]Y\n",
      "-\n",
      "Input: The monkey climbed up a tree.\n",
      "Translation: बंदर पेड़ पर चढ़ा।\n",
      "Continue? [Y/n]Y\n",
      "-\n",
      "Input: We should observe the speed limit.\n",
      "Translation: हमे गति सीमा का पालन करना चाहिए।\n",
      "Continue? [Y/n]Y\n",
      "-\n",
      "Input: I have little money now.\n",
      "Translation: अब मेरे पास बहुत थोड़े पैसे हैं।\n",
      "Continue? [Y/n]Y\n",
      "-\n",
      "Input: I am convinced that he did nothing wrong.\n",
      "Translation: मुझे जो भी कहे, मुझे उस पर यकीन नहीं है।\n",
      "Continue? [Y/n]Y\n",
      "-\n",
      "Input: I have so many clothes I don't know what to wear tomorrow.\n",
      "Translation: मुझे मुझे जो करने के बारे में कुछ नहीं मिला।\n",
      "Continue? [Y/n]Y\n",
      "-\n",
      "Input: Let's meet here again tomorrow.\n",
      "Translation: यहाँ पर कल फिर मिलते हैं।\n",
      "Continue? [Y/n]n\n"
     ]
    }
   ],
   "source": [
    "while True:\n",
    "  # Do some test translations\n",
    "  i = np.random.choice(len(input_texts))\n",
    "  input_seq = encoder_inputs[i:i+1]\n",
    "  translation = decode_sequence(input_seq)\n",
    "  print('-')\n",
    "  print('Input:', input_texts[i])\n",
    "  print('Translation:', translation)\n",
    "\n",
    "  ans = input(\"Continue? [Y/n]\")\n",
    "  if ans and ans.lower().startswith('n'):\n",
    "    break"
   ]
  },
  {
   "cell_type": "code",
   "execution_count": null,
   "metadata": {},
   "outputs": [],
   "source": []
  }
 ],
 "metadata": {
  "kernelspec": {
   "display_name": "Python 3",
   "language": "python",
   "name": "python3"
  },
  "language_info": {
   "codemirror_mode": {
    "name": "ipython",
    "version": 3
   },
   "file_extension": ".py",
   "mimetype": "text/x-python",
   "name": "python",
   "nbconvert_exporter": "python",
   "pygments_lexer": "ipython3",
   "version": "3.7.3"
  }
 },
 "nbformat": 4,
 "nbformat_minor": 2
}

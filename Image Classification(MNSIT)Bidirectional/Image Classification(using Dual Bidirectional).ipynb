{
 "cells": [
  {
   "cell_type": "code",
   "execution_count": 1,
   "metadata": {},
   "outputs": [
    {
     "name": "stderr",
     "output_type": "stream",
     "text": [
      "Using TensorFlow backend.\n"
     ]
    }
   ],
   "source": [
    "import os\n",
    "from keras.models import Model\n",
    "from keras.layers import Input, LSTM, GRU, Bidirectional, GlobalMaxPooling1D, Lambda, Concatenate, Dense\n",
    "import keras.backend as K\n",
    "import numpy as np\n",
    "import pandas as pd\n",
    "import matplotlib.pyplot as plt"
   ]
  },
  {
   "cell_type": "code",
   "execution_count": 2,
   "metadata": {},
   "outputs": [],
   "source": [
    "if len(K.tensorflow_backend._get_available_gpus()) > 0:\n",
    "  from keras.layers import CuDNNLSTM as LSTM\n",
    "  from keras.layers import CuDNNGRU as GRU\n",
    "\n",
    "\n",
    "def get_mnist(limit=None):\n",
    "  if not os.path.exists('/home/shadaab17/Desktop/Udemy/Deep Learning Advanced NLP/Class Notes/Image Classification(MNSIT)/train.csv'):\n",
    "  if not os.path.exists('/home/shadaab17/Desktop/Udemy/Deep Learning Advanced NLP/Class Notes/Image Classification(MNSIT)/train.csv'):\n",
    "    print(\"Looks like you haven't downloaded the data or it's not in the right spot.\")\n",
    "    print(\"Please get train.csv from https://www.kaggle.com/c/digit-recognizer\")\n",
    "   \n",
    "\n",
    "  print(\"Reading in and transforming data...\")\n",
    "  df = pd.read_csv('train.csv')\n",
    "  data = df.values\n",
    "  np.random.shuffle(data)\n",
    "  X = data[:, 1:].reshape(-1, 28, 28) / 255.0 # data is from 0..255\n",
    "  Y = data[:, 0]\n",
    "  if limit is not None:\n",
    "    X, Y = X[:limit], Y[:limit]\n",
    "  return X, Y"
   ]
  },
  {
   "cell_type": "code",
   "execution_count": 3,
   "metadata": {},
   "outputs": [
    {
     "name": "stdout",
     "output_type": "stream",
     "text": [
      "You must create a folder called large_files adjacent to the class folder first.\n",
      "Looks like you haven't downloaded the data or it's not in the right spot.\n",
      "Please get train.csv from https://www.kaggle.com/c/digit-recognizer\n",
      "and place it in the large_files folder.\n",
      "Reading in and transforming data...\n"
     ]
    }
   ],
   "source": [
    "# get data\n",
    "X, Y = get_mnist()\n",
    "\n",
    "# config\n",
    "D = 28\n",
    "M = 15"
   ]
  },
  {
   "cell_type": "code",
   "execution_count": 4,
   "metadata": {},
   "outputs": [
    {
     "name": "stdout",
     "output_type": "stream",
     "text": [
      "WARNING:tensorflow:From /home/shadaab17/anaconda3/lib/python3.7/site-packages/tensorflow/python/framework/op_def_library.py:263: colocate_with (from tensorflow.python.framework.ops) is deprecated and will be removed in a future version.\n",
      "Instructions for updating:\n",
      "Colocations handled automatically by placer.\n"
     ]
    }
   ],
   "source": [
    "# input is an image of size 28x28\n",
    "input_ = Input(shape=(D, D))\n",
    "\n",
    "# up-down\n",
    "rnn1 = Bidirectional(LSTM(M, return_sequences=True))\n",
    "x1 = rnn1(input_) # output is N x D x 2M\n",
    "x1 = GlobalMaxPooling1D()(x1) # output is N x 2M\n",
    "\n",
    "# left-right\n",
    "rnn2 = Bidirectional(LSTM(M, return_sequences=True))\n",
    "\n",
    "# custom layer\n",
    "permutor = Lambda(lambda t: K.permute_dimensions(t, pattern=(0, 2, 1)))\n",
    "\n",
    "x2 = permutor(input_)\n",
    "x2 = rnn2(x2) # output is N x D x 2M\n",
    "x2 = GlobalMaxPooling1D()(x2) # output is N x 2M\n",
    "\n",
    "# put them together\n",
    "concatenator = Concatenate(axis=1)\n",
    "x = concatenator([x1, x2]) # output is N x 4M\n",
    "\n",
    "# final dense layer\n",
    "output = Dense(10, activation='softmax')(x)\n",
    "\n",
    "model = Model(inputs=input_, outputs=output)"
   ]
  },
  {
   "cell_type": "code",
   "execution_count": 5,
   "metadata": {},
   "outputs": [
    {
     "name": "stdout",
     "output_type": "stream",
     "text": [
      "Training model...\n",
      "WARNING:tensorflow:From /home/shadaab17/anaconda3/lib/python3.7/site-packages/tensorflow/python/ops/math_ops.py:3066: to_int32 (from tensorflow.python.ops.math_ops) is deprecated and will be removed in a future version.\n",
      "Instructions for updating:\n",
      "Use tf.cast instead.\n",
      "WARNING:tensorflow:From /home/shadaab17/anaconda3/lib/python3.7/site-packages/tensorflow/python/ops/math_grad.py:102: div (from tensorflow.python.ops.math_ops) is deprecated and will be removed in a future version.\n",
      "Instructions for updating:\n",
      "Deprecated in favor of operator or tf.math.divide.\n",
      "Train on 29399 samples, validate on 12601 samples\n",
      "Epoch 1/10\n",
      "29399/29399 [==============================] - 51s 2ms/step - loss: 0.7695 - acc: 0.8042 - val_loss: 0.3016 - val_acc: 0.9210\n",
      "Epoch 2/10\n",
      "29399/29399 [==============================] - 39s 1ms/step - loss: 0.2345 - acc: 0.9368 - val_loss: 0.2141 - val_acc: 0.9359\n",
      "Epoch 3/10\n",
      "29399/29399 [==============================] - 42s 1ms/step - loss: 0.1667 - acc: 0.9527 - val_loss: 0.1626 - val_acc: 0.9522\n",
      "Epoch 4/10\n",
      "29399/29399 [==============================] - 42s 1ms/step - loss: 0.1388 - acc: 0.9594 - val_loss: 0.1567 - val_acc: 0.9529\n",
      "Epoch 5/10\n",
      "29399/29399 [==============================] - 40s 1ms/step - loss: 0.1171 - acc: 0.9661 - val_loss: 0.1204 - val_acc: 0.9640\n",
      "Epoch 6/10\n",
      "29399/29399 [==============================] - 38s 1ms/step - loss: 0.1028 - acc: 0.9695 - val_loss: 0.1132 - val_acc: 0.9652\n",
      "Epoch 7/10\n",
      "29399/29399 [==============================] - 42s 1ms/step - loss: 0.0935 - acc: 0.9723 - val_loss: 0.1042 - val_acc: 0.9686\n",
      "Epoch 8/10\n",
      "29399/29399 [==============================] - 47s 2ms/step - loss: 0.0851 - acc: 0.9748 - val_loss: 0.1039 - val_acc: 0.9680\n",
      "Epoch 9/10\n",
      "29399/29399 [==============================] - 42s 1ms/step - loss: 0.0780 - acc: 0.9773 - val_loss: 0.1011 - val_acc: 0.9689\n",
      "Epoch 10/10\n",
      "29399/29399 [==============================] - 44s 2ms/step - loss: 0.0722 - acc: 0.9791 - val_loss: 0.0883 - val_acc: 0.9731\n"
     ]
    }
   ],
   "source": [
    "# testing\n",
    "# o = model.predict(X)\n",
    "# print(\"o.shape:\", o.shape)\n",
    "\n",
    "# compile\n",
    "model.compile(\n",
    "  loss='sparse_categorical_crossentropy',\n",
    "  optimizer='adam',\n",
    "  metrics=['accuracy']\n",
    ")\n",
    "\n",
    "# train\n",
    "print('Training model...')\n",
    "r = model.fit(X, Y, batch_size=32, epochs=10, validation_split=0.3)"
   ]
  },
  {
   "cell_type": "code",
   "execution_count": 6,
   "metadata": {},
   "outputs": [
    {
     "data": {
      "image/png": "[encoded data removed]",
      "text/plain": [
       "<Figure size 432x288 with 1 Axes>"
      ]
     },
     "metadata": {
      "needs_background": "light"
     },
     "output_type": "display_data"
    },
    {
     "data": {
      "image/png": "[encoded data removed]",
      "text/plain": [
       "<Figure size 432x288 with 1 Axes>"
      ]
     },
     "metadata": {
      "needs_background": "light"
     },
     "output_type": "display_data"
    }
   ],
   "source": [
    "# plot some data\n",
    "plt.plot(r.history['loss'], label='loss')\n",
    "plt.plot(r.history['val_loss'], label='val_loss')\n",
    "plt.legend()\n",
    "plt.show()\n",
    "\n",
    "# accuracies\n",
    "plt.plot(r.history['acc'], label='acc')\n",
    "plt.plot(r.history['val_acc'], label='val_acc')\n",
    "plt.legend()\n",
    "plt.show()"
   ]
  }
 ],
 "metadata": {
  "kernelspec": {
   "display_name": "Python 3",
   "language": "python",
   "name": "python3"
  },
  "language_info": {
   "codemirror_mode": {
    "name": "ipython",
    "version": 3
   },
   "file_extension": ".py",
   "mimetype": "text/x-python",
   "name": "python",
   "nbconvert_exporter": "python",
   "pygments_lexer": "ipython3",
   "version": "3.7.3"
  }
 },
 "nbformat": 4,
 "nbformat_minor": 2
}
